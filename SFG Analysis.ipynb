{
 "cells": [
  {
   "cell_type": "markdown",
   "metadata": {},
   "source": [
    "<h1>SFG Analysis</h1>"
   ]
  },
  {
   "cell_type": "code",
   "execution_count": 6,
   "metadata": {
    "tags": []
   },
   "outputs": [
    {
     "data": {
      "application/vnd.jupyter.widget-view+json": {
       "model_id": "1b1c02be13c54827be9c636428088a0a",
       "version_major": 2,
       "version_minor": 0
      },
      "text/plain": [
       "Dropdown(description='Select File', layout=Layout(width='70%'), options=('sfg230125_02 CH3OH-O2-Pt C-H',), sty…"
      ]
     },
     "metadata": {},
     "output_type": "display_data"
    },
    {
     "data": {
      "application/vnd.jupyter.widget-view+json": {
       "model_id": "f3361e4aa852434bbc9394e3eac7c20d",
       "version_major": 2,
       "version_minor": 0
      },
      "text/plain": [
       "HBox(children=(Button(description='Show Data', style=ButtonStyle()), Button(description='Fit Data', style=Butt…"
      ]
     },
     "metadata": {},
     "output_type": "display_data"
    },
    {
     "data": {
      "application/vnd.jupyter.widget-view+json": {
       "model_id": "232d48473fa4446db91b19de0a402607",
       "version_major": 2,
       "version_minor": 0
      },
      "text/plain": [
       "Output()"
      ]
     },
     "metadata": {},
     "output_type": "display_data"
    }
   ],
   "source": [
    "from importlib import reload\n",
    "\n",
    "from tools import sfg\n",
    "reload(sfg)\n",
    "\n",
    "sfg = sfg.sfg()\n",
    "sfg.UI()"
   ]
  },
  {
   "cell_type": "markdown",
   "metadata": {},
   "source": [
    "<h2>SFG data fitting theory</h2>\n",
    "\n",
    "The intensity of the SFG signal, $I_{SFG}$ is proportional to the second order susceptibility, $\\chi^{(2)}$:\n",
    "\n",
    "$$I_{SFG}(\\hbar\\omega)\\propto\\lvert\\chi^{(2)}\\rvert^{2}\\hspace{1cm}(1)$$\n",
    "\n",
    "<table>\n",
    "  <col width=\"40\">\n",
    "  <col width=\"180\">\n",
    "  <tr style='background-color:transparent'>\n",
    "    <td>$\\chi^{(2)}$</td>\n",
    "    <td style=\"text-align:left\">Second order susceptibility</td>\n",
    "  </tr>\n",
    "</table> \n",
    "\n",
    "The second order susceptibility has a non-resonant, $\\chi_{NR}^{(2)}$, and a resonant, $\\chi_{R}^{(2)}$, component:\n",
    "\n",
    "$$\\chi^{(2)}=\\chi_{NR}^{(2)}+\\chi_{R}^{(2)}\\hspace{1cm}(2)$$\n",
    "\n",
    "<p>The non-resonant component is given by:</p>\n",
    "\n",
    "$$\\chi_{NR}^{(2)} = A_{0}\\hspace{1cm}(3)$$\n",
    "\n",
    "<p> The resonant component is given by:</p>\n",
    "\n",
    "$$\\chi_{R}^{(2)}=\\frac{Ae^{i\\phi}}{\\hbar\\omega_{IR}-\\hbar\\omega_{0}+i\\Gamma}\\hspace{1cm}(4)$$\n",
    "\n",
    "<table>\n",
    "  <col width=\"15\">\n",
    "  <col width=\"150\">\n",
    "  <tr style='background-color:transparent'>\n",
    "    <td>$A$</td>\n",
    "    <td style=\"text-align:left\">Amplitude</td>\n",
    "  </tr>\n",
    "  <tr style='background-color:transparent'>\n",
    "    <td>$\\omega_{0}$</td>\n",
    "    <td style=\"text-align:left\">Resonant frequency</td>\n",
    "  </tr>\n",
    "  <tr style='background-color:transparent'>\n",
    "    <td>$\\Gamma$</td>\n",
    "    <td style=\"text-align:left\">Linewidth</td>\n",
    "  </tr>\n",
    "</table> \n",
    "\n",
    "<p>The intensity of the SFG signal is then proportional to:</p>\n",
    "\n",
    "$$I_{SFG}(\\hbar\\omega)\\propto\\lvert\\chi_{NR}^{(2)}+\\chi_{R}^{(2)}\\rvert^{2}\\hspace{1cm}(5)$$\n",
    "$$=\\chi_{NR}^{(2),2}+\\chi_{R}^{(2),2}+\\chi_{NR}^{(2)}\\chi_{R}^{(2)}\\hspace{1cm}(6)$$\n",
    "$$=A_{0}^{2}+\\frac{A^{2}e^{i2\\phi}}{(\\hbar\\omega_{IR}-\\hbar\\omega_{0}+i\\Gamma)^{2}}+\\frac{AA_{0}e^{i\\phi}}{\\hbar\\omega_{IR}-\\hbar\\omega_{0}+i\\Gamma}\\hspace{1cm}(7)$$\n",
    "\n",
    "To calculate the SFG signal, the intensity of the IR and VIS pulses, $I_{sum}$, must be taken into account:\n",
    "\n",
    "$$I_{SFG}(\\hbar\\omega)=\\lvert\\chi_{NR}^{(2)}+\\chi_{R}^{(2)}\\rvert^{2} I_{sum}\\hspace{1cm}(8)$$\n",
    "\n",
    "$I_{sum}$ is taken from the non-resonant background of the SFG data.\n",
    "\n",
    "The above code is for a single resonant peak. This can be readily expanded to multiple resonant peaks through the expansion of $\\chi_{R}^{(2)}$.\n",
    "\n",
    "To fit data, array w of length 4 * Number of Peaks + 1 will be created to store multipeak fitting parameters to equation (7):\n",
    "\n",
    "$$I_{SFG}(\\hbar\\omega)\\propto A_{0}^{2}+\\frac{A^{2}e^{i2\\phi}}{(\\hbar\\omega_{IR}-\\hbar\\omega_{0}+i\\Gamma)^{2}}+\\frac{AA_{0}e^{i\\phi}}{\\hbar\\omega_{IR}-\\hbar\\omega_{0}+i\\Gamma}\\hspace{1cm}(7)$$\n",
    "\n",
    "<table>\n",
    "  <col width=\"15\">\n",
    "  <col width=\"250\">\n",
    "  <tr style='background-color:transparent'>\n",
    "    <td>w[0]</td>\n",
    "    <td style=\"text-align:left\">Amplitude for Non-Resonant Peak, $A_{0}$</td>\n",
    "  </tr>\n",
    "  <tr style='background-color:transparent'>\n",
    "    <td>w[1+3n]</td>\n",
    "    <td style=\"text-align:left\">Amplitude for Resonant Peak n+1, $A_{n+1}$</td>\n",
    "  </tr>\n",
    "  <tr style='background-color:transparent'>\n",
    "    <td>w[2+3n]</td>\n",
    "    <td style=\"text-align:left\">Phase for Resonant Peak n+1, $\\phi_{n+1}$</td>\n",
    "  </tr>\n",
    "  <tr style='background-color:transparent'>\n",
    "    <td>w[2+3n]</td>\n",
    "    <td style=\"text-align:left\">Frequency for Resonant Peak n+1, $\\omega_{0,n+1}$</td>\n",
    "  </tr>\n",
    "  <tr style='background-color:transparent'>\n",
    "    <td>w[2+3n]</td>\n",
    "    <td style=\"text-align:left\">Width for Resonant Peak n, $\\Gamma_{n+1}$</td>\n",
    "  </tr>\n",
    "</table> "
   ]
  },
  {
   "cell_type": "markdown",
   "metadata": {},
   "source": [
    " "
   ]
  }
 ],
 "metadata": {
  "interpreter": {
   "hash": "d84993288985c23c670f2b98c8c944eb6889a874117a91a1945ea5a51b71a714"
  },
  "kernelspec": {
   "display_name": "Python 3 (ipykernel)",
   "language": "python",
   "name": "python3"
  },
  "language_info": {
   "codemirror_mode": {
    "name": "ipython",
    "version": 3
   },
   "file_extension": ".py",
   "mimetype": "text/x-python",
   "name": "python",
   "nbconvert_exporter": "python",
   "pygments_lexer": "ipython3",
   "version": "3.9.15"
  }
 },
 "nbformat": 4,
 "nbformat_minor": 4
}
